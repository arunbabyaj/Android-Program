{
  "nbformat": 4,
  "nbformat_minor": 0,
  "metadata": {
    "kernelspec": {
      "display_name": "Python 3",
      "language": "python",
      "name": "python3"
    },
    "language_info": {
      "codemirror_mode": {
        "name": "ipython",
        "version": 3
      },
      "file_extension": ".py",
      "mimetype": "text/x-python",
      "name": "python",
      "nbconvert_exporter": "python",
      "pygments_lexer": "ipython3",
      "version": "3.7.3"
    },
    "colab": {
      "name": "Tutorial_Programs.ipynb",
      "provenance": [],
      "collapsed_sections": [],
      "include_colab_link": true
    }
  },
  "cells": [
    {
      "cell_type": "markdown",
      "metadata": {
        "id": "view-in-github",
        "colab_type": "text"
      },
      "source": [
        "<a href=\"https://colab.research.google.com/github/arunbabyaj/Android-Program/blob/main/Tutorial_Programs.ipynb\" target=\"_parent\"><img src=\"https://colab.research.google.com/assets/colab-badge.svg\" alt=\"Open In Colab\"/></a>"
      ]
    },
    {
      "cell_type": "markdown",
      "metadata": {
        "id": "EDtCl4EIwBFl"
      },
      "source": [
        "# Assignment 1"
      ]
    },
    {
      "cell_type": "markdown",
      "metadata": {
        "id": "W6TefubHwTdI"
      },
      "source": [
        "### 1.write a Python program which accept the radius of a circle from the user and computes the area"
      ]
    },
    {
      "cell_type": "code",
      "metadata": {
        "id": "VlprdyNowBFq",
        "colab": {
          "base_uri": "https://localhost:8080/"
        },
        "outputId": "0c64f68f-0db1-4650-f7e2-340669b72cd4"
      },
      "source": [
        "from math import pi\n",
        "r = float(input (\"Enter Radius Of Circle\"))\n",
        "print (\"The area of the circle:\" + str(pi * r**2))"
      ],
      "execution_count": 1,
      "outputs": [
        {
          "output_type": "stream",
          "name": "stdout",
          "text": [
            "Enter Radius Of Circle6\n",
            "The area of the circle:113.09733552923255\n"
          ]
        }
      ]
    },
    {
      "cell_type": "markdown",
      "metadata": {
        "id": "wPfyunPtwBFr"
      },
      "source": [
        "### 2. Program to find the biggest of three numbers"
      ]
    },
    {
      "cell_type": "code",
      "metadata": {
        "id": "sH4s4IX_wBFs",
        "colab": {
          "base_uri": "https://localhost:8080/"
        },
        "outputId": "ed1e4182-6d53-485b-f81e-ce02dea01134"
      },
      "source": [
        "num1 = float(input(\"Enter 1st number: \"))\n",
        "num2 = float(input(\"Enter 2nd number: \"))\n",
        "num3 = float(input(\"Enter 3rd number: \"))\n",
        "\n",
        "if (num1 >= num2) and (num1 >= num3):\n",
        "   large = num1\n",
        "elif (num2 >= num1) and (num2 >= num3):\n",
        "   large = num2\n",
        "else:\n",
        "   large = num3\n",
        "\n",
        "print(\"The largest number among\",num1,\",\",num2,\"and\",num3,\"is: \",large)"
      ],
      "execution_count": 2,
      "outputs": [
        {
          "output_type": "stream",
          "name": "stdout",
          "text": [
            "Enter 1st number: 4\n",
            "Enter 2nd number: 5\n",
            "Enter 3rd number: 6\n",
            "The largest number among 4.0 , 5.0 and 6.0 is:  6.0\n"
          ]
        }
      ]
    },
    {
      "cell_type": "markdown",
      "metadata": {
        "id": "24reHHhKwBFs"
      },
      "source": [
        "### 3. Write a Python program which accepts a sequence of comma-separated numbers from user and generate a list and a tuple with those numbers"
      ]
    },
    {
      "cell_type": "code",
      "metadata": {
        "id": "D3S9Mn0YwBFs",
        "colab": {
          "base_uri": "https://localhost:8080/"
        },
        "outputId": "961879b3-36f8-4996-92cf-dc33be33db58"
      },
      "source": [
        "number_list= input(\"Enter comma seperated list of numbers:\")\n",
        "list = number_list.split(\",\")\n",
        "tuple = tuple(list)\n",
        "print('List is : ',list)\n",
        "print('Tuple is : ',tuple)\n"
      ],
      "execution_count": 3,
      "outputs": [
        {
          "output_type": "stream",
          "name": "stdout",
          "text": [
            "Enter comma seperated list of numbers:1,2,3,4,5,\n",
            "List is :  ['1', '2', '3', '4', '5', '']\n",
            "Tuple is :  ('1', '2', '3', '4', '5', '')\n"
          ]
        }
      ]
    },
    {
      "cell_type": "markdown",
      "metadata": {
        "id": "_5wNcDmqwBFt"
      },
      "source": [
        "### 4. Write a Python program to accept a filename from the user print the extension of that."
      ]
    },
    {
      "cell_type": "code",
      "metadata": {
        "id": "B0THSeeYwBFt",
        "colab": {
          "base_uri": "https://localhost:8080/"
        },
        "outputId": "89779d32-45eb-44eb-d246-726948a8e851"
      },
      "source": [
        "file1 = input(\"enter the full file name\")\n",
        "extension = file1.split(\".\")\n",
        "print (\"file extension is: \" + repr(extension[-1]))\n"
      ],
      "execution_count": 4,
      "outputs": [
        {
          "output_type": "stream",
          "name": "stdout",
          "text": [
            "enter the full file namean.java\n",
            "file extension is: 'java'\n"
          ]
        }
      ]
    },
    {
      "cell_type": "markdown",
      "metadata": {
        "id": "XpZJvpAAwBFu"
      },
      "source": [
        "### 5. Write a Python program to display the first and last colors from the following list."
      ]
    },
    {
      "cell_type": "code",
      "metadata": {
        "colab": {
          "base_uri": "https://localhost:8080/"
        },
        "id": "y5zgtlQVCAht",
        "outputId": "5cd45819-5434-44ff-8b8f-08eed3c0d399"
      },
      "source": [
        "colors = [\"Red\",\"Green\",\"White\" ,\"Black\"]\n",
        "print( \"%s %s\"%(colors[0],colors[-1]))"
      ],
      "execution_count": 5,
      "outputs": [
        {
          "output_type": "stream",
          "name": "stdout",
          "text": [
            "Red Black\n"
          ]
        }
      ]
    },
    {
      "cell_type": "markdown",
      "metadata": {
        "id": "CaqY5uzIB_-J"
      },
      "source": [
        ""
      ]
    },
    {
      "cell_type": "code",
      "metadata": {
        "id": "dfZx2AIzwBFu"
      },
      "source": [
        ""
      ],
      "execution_count": null,
      "outputs": []
    },
    {
      "cell_type": "markdown",
      "metadata": {
        "id": "0dAUtgTawBFv"
      },
      "source": [
        "### 6. Write a Python program that accept an integer(n) and computes the value of n+nn+nnn."
      ]
    },
    {
      "cell_type": "code",
      "metadata": {
        "id": "4GQD9jfJwBFv",
        "colab": {
          "base_uri": "https://localhost:8080/"
        },
        "outputId": "d4d6ea02-7264-4f6d-bce1-b3d592e987db"
      },
      "source": [
        "n = int(input(\"enter n  \"))\n",
        "n1 = int( \"%s\" % n )\n",
        "n2 = int( \"%s%s\" % (n,n) )\n",
        "n3 = int( \"%s%s%s\" % (n,n,n) )\n",
        "print (n1+n2+n3)\n"
      ],
      "execution_count": 6,
      "outputs": [
        {
          "output_type": "stream",
          "name": "stdout",
          "text": [
            "enter n  9\n",
            "1107\n"
          ]
        }
      ]
    },
    {
      "cell_type": "markdown",
      "metadata": {
        "id": "ABajFo_ZwBFw"
      },
      "source": [
        "### 7. Write a Python program to print out a set containing all the colors from color_list_1 which are not present in color_list_2"
      ]
    },
    {
      "cell_type": "code",
      "metadata": {
        "id": "mi7FRcTgwBFw",
        "colab": {
          "base_uri": "https://localhost:8080/"
        },
        "outputId": "d0f71543-9f17-4ba0-c1d6-b30adc2ecf1c"
      },
      "source": [
        "l1 = set([\"White\", \"Black\", \"Red\"])\n",
        "l2 = set([\"Red\", \"Green\"])\n",
        "print(\"sets are:\")\n",
        "print(l1)\n",
        "print(l2)\n",
        "print(\"Difference of l1 and l2:\")\n",
        "print(l1.difference(l2))\n",
        "print(\"difference of l2 and l1\")\n",
        "print(l2.difference(l1))\n",
        "\n"
      ],
      "execution_count": 22,
      "outputs": [
        {
          "output_type": "stream",
          "name": "stdout",
          "text": [
            "sets are:\n",
            "{'White', 'Red', 'Black'}\n",
            "{'Red', 'Green'}\n",
            "Difference of l1 and l2:\n",
            "{'White', 'Black'}\n",
            "difference of l2 and l1\n",
            "{'Green'}\n"
          ]
        }
      ]
    },
    {
      "cell_type": "markdown",
      "metadata": {
        "id": "fi06mOL4wBFw"
      },
      "source": [
        "### 8. Write a Python program to get a string from a given string where all occurrences of its first char have been changed to '$', exceptthe first char itself."
      ]
    },
    {
      "cell_type": "code",
      "metadata": {
        "id": "fg0HFJrewBFw",
        "colab": {
          "base_uri": "https://localhost:8080/"
        },
        "outputId": "408c6e16-2a0e-4ca7-e9d8-56a41d4e1112"
      },
      "source": [
        "\n",
        "def editString(string1):\n",
        "  char = string1[0]\n",
        "  string1 = string1.replace(char, '$')\n",
        "  string1 = char + string1[1:]\n",
        "\n",
        "  return string1\n",
        "\n",
        "stri=input(\"enter\")\n",
        "print(change_char(stri))\n"
      ],
      "execution_count": 35,
      "outputs": [
        {
          "output_type": "stream",
          "name": "stdout",
          "text": [
            "enteraruna\n",
            "arun$\n"
          ]
        }
      ]
    },
    {
      "cell_type": "markdown",
      "metadata": {
        "id": "oyqb-uGvwBFx"
      },
      "source": [
        "### 9. Write a Python program to get a single string from two given strings, separated by a space and swap the first two characters of each string"
      ]
    },
    {
      "cell_type": "code",
      "metadata": {
        "id": "1H5CD2jJwBFx",
        "colab": {
          "base_uri": "https://localhost:8080/"
        },
        "outputId": "42b89453-baa1-46f8-a9c8-80c5d85ee58e"
      },
      "source": [
        "def stringop(s1, s2):\n",
        "  l1 = s2[:2] + s1[2:]\n",
        "  l2 = s1[:2] + s2[2:]\n",
        "\n",
        "  return l1 + ' ' + l2\n",
        "print(stringop('arun', 'emil'))\n"
      ],
      "execution_count": 36,
      "outputs": [
        {
          "output_type": "stream",
          "name": "stdout",
          "text": [
            "emun aril\n"
          ]
        }
      ]
    },
    {
      "cell_type": "markdown",
      "metadata": {
        "id": "iwNxblpIwBFx"
      },
      "source": [
        "### 10. Write a Python Program to remove the nth index character from a non empty string"
      ]
    },
    {
      "cell_type": "code",
      "metadata": {
        "id": "9rf46ldswBFx",
        "colab": {
          "base_uri": "https://localhost:8080/"
        },
        "outputId": "158e5975-2392-422f-b025-08f5eaa98330"
      },
      "source": [
        "str = input(\"enter string:\")\n",
        "n = int(input(\"enter n:\"))\n",
        "str1 = ''\n",
        "for char in range(0, len(str)):\n",
        "\tif(char != n):\n",
        "\t\tstr1 += str[char]\n",
        "\n",
        "print(\"Modified string after removing \", n, \"th character \")\n",
        "print(str1)\n"
      ],
      "execution_count": 37,
      "outputs": [
        {
          "output_type": "stream",
          "name": "stdout",
          "text": [
            "enter stringarun\n",
            "enter n1\n",
            "Modified string after removing  1 th character \n",
            "aun\n"
          ]
        }
      ]
    },
    {
      "cell_type": "markdown",
      "metadata": {
        "id": "9-bqAAxCwBFy"
      },
      "source": [
        "### 11. Write a Python program to change a given string to a new string where the first and last chars have been exchanged"
      ]
    },
    {
      "cell_type": "code",
      "metadata": {
        "id": "eji76s-owBFy",
        "colab": {
          "base_uri": "https://localhost:8080/"
        },
        "outputId": "e0fbd26b-45c6-4097-b02e-0ebf729ba121"
      },
      "source": [
        "def swap(string):\n",
        "\tstart = string[0]\n",
        "\tend = string[-1]\n",
        "\t\n",
        "\tnew = end + string[1:-1] + start\n",
        "\tprint(new)\n",
        "\t\n",
        "s=input(\"enter string:\")\n",
        "swap(s)\n",
        "\n"
      ],
      "execution_count": 42,
      "outputs": [
        {
          "output_type": "stream",
          "name": "stdout",
          "text": [
            "enter string:arun\n",
            "nrua\n"
          ]
        }
      ]
    },
    {
      "cell_type": "markdown",
      "metadata": {
        "id": "fFzidaLBwBFy"
      },
      "source": [
        "### 12. Write a Python script that takes input from the user and displays that input back in upper and lower cases"
      ]
    },
    {
      "cell_type": "code",
      "metadata": {
        "id": "oyoQbcfYwBFz",
        "colab": {
          "base_uri": "https://localhost:8080/"
        },
        "outputId": "db84b4b7-c1de-4050-9233-6589a850b672"
      },
      "source": [
        "input1 = input(\"enter input:\")  \n",
        "print(\"upper case:\" ,input1.upper())  \n",
        "print(\"Lower case\",input1.lower())  "
      ],
      "execution_count": 44,
      "outputs": [
        {
          "output_type": "stream",
          "name": "stdout",
          "text": [
            "enter input:arun\n",
            "upper case: ARUN\n",
            "Lower case arun\n"
          ]
        }
      ]
    },
    {
      "cell_type": "markdown",
      "metadata": {
        "id": "0vMrLzrlwBFz"
      },
      "source": [
        "### 13. Write a Python program to get the largest number from a list"
      ]
    },
    {
      "cell_type": "code",
      "metadata": {
        "id": "qwD9A1TCwBFz",
        "colab": {
          "base_uri": "https://localhost:8080/"
        },
        "outputId": "fa346081-e1dc-4b8f-c27d-fd438139d9aa"
      },
      "source": [
        "list1=[]\n",
        "n=int(input(\"enter number of elemnts:\"))\n",
        "for i in range(0,n):\n",
        " elem = int(input())\n",
        "list1.append(elem)\n",
        "\n",
        "list1.sort()\n",
        "print(\"Largest element is:\", list1[-1])\n",
        "\n",
        "\n",
        " "
      ],
      "execution_count": 47,
      "outputs": [
        {
          "output_type": "stream",
          "name": "stdout",
          "text": [
            "enter number of elemnts:2\n",
            "2\n",
            "3\n",
            "Largest element is: 3\n"
          ]
        }
      ]
    },
    {
      "cell_type": "markdown",
      "metadata": {
        "id": "m57e54YowBFz"
      },
      "source": [
        "## 14. Write a Python program to clone or copy a list"
      ]
    },
    {
      "cell_type": "code",
      "metadata": {
        "id": "_Ap4EVlEwBFz",
        "colab": {
          "base_uri": "https://localhost:8080/"
        },
        "outputId": "dec0aa6e-6885-460a-9c29-062cbabae7b9"
      },
      "source": [
        "list1=[1,2,3,4]\n",
        "list2=list1.copy()\n",
        "print(\"original list\")\n",
        "print(list1)\n",
        "print(\"copied list\")\n",
        "print(list2)\n"
      ],
      "execution_count": 64,
      "outputs": [
        {
          "output_type": "stream",
          "name": "stdout",
          "text": [
            "original list\n",
            "[1, 2, 3, 4]\n",
            "copied list\n",
            "[1, 2, 3, 4]\n"
          ]
        }
      ]
    },
    {
      "cell_type": "markdown",
      "metadata": {
        "id": "1BaFhvYuwBF0"
      },
      "source": [
        "### 15. Write a Python program to shuffle and print a specified list"
      ]
    },
    {
      "cell_type": "code",
      "metadata": {
        "id": "1xJQaRoVwBF0",
        "colab": {
          "base_uri": "https://localhost:8080/"
        },
        "outputId": "57826f57-9100-4fd7-d11a-ad4456402b3d"
      },
      "source": [
        "from random import shuffle\n",
        "num = [33,6,7,32,444,55,4,0]\n",
        "shuffle(num)\n",
        "print(num)"
      ],
      "execution_count": 67,
      "outputs": [
        {
          "output_type": "stream",
          "name": "stdout",
          "text": [
            "[32, 33, 4, 444, 6, 7, 55, 0]\n"
          ]
        }
      ]
    },
    {
      "cell_type": "markdown",
      "metadata": {
        "id": "dQqLDJ0YwBF0"
      },
      "source": [
        "### 16. Write Python script to sort(ascending and descending) a dictionary by value"
      ]
    },
    {
      "cell_type": "code",
      "metadata": {
        "id": "btkmuMIGwBF0",
        "colab": {
          "base_uri": "https://localhost:8080/"
        },
        "outputId": "2b6e2d26-9aba-4b84-b7cf-44202c777c0f"
      },
      "source": [
        "import operator\n",
        "\n",
        "d = {1: 2, 3: 4, 4: 3, 2: 1, 0: 0}\n",
        "\n",
        "s= dict(sorted(d.items(), key=operator.itemgetter(1)))\n",
        "\n",
        "print('ascending order : ',s)\n",
        "\n",
        "s1= dict( sorted(d.items(), key=operator.itemgetter(1),reverse=True))\n",
        "\n",
        "print('descending order : ',s1)"
      ],
      "execution_count": 72,
      "outputs": [
        {
          "output_type": "stream",
          "name": "stdout",
          "text": [
            "ascending order :  {0: 0, 2: 1, 1: 2, 4: 3, 3: 4}\n",
            "descending order :  {3: 4, 4: 3, 1: 2, 2: 1, 0: 0}\n"
          ]
        }
      ]
    },
    {
      "cell_type": "markdown",
      "metadata": {
        "id": "HXNRX_A1wBF1"
      },
      "source": [
        "### 17. Write a Python script to add key to a dictionary"
      ]
    },
    {
      "cell_type": "code",
      "metadata": {
        "id": "WBPw-mO7wBF1",
        "colab": {
          "base_uri": "https://localhost:8080/"
        },
        "outputId": "dc9007a3-f40c-4e97-9403-413f805ccff6"
      },
      "source": [
        "dic = {'ab':11, 'ca':20}\n",
        "print(dic)\n",
        "dic.update({2:30})\n",
        "print(\"new dictionary\")\n",
        "print(dic)"
      ],
      "execution_count": 78,
      "outputs": [
        {
          "output_type": "stream",
          "name": "stdout",
          "text": [
            "{'ab': 11, 'ca': 20}\n",
            "new dictionary\n",
            "{'ab': 11, 'ca': 20, 2: 30}\n"
          ]
        }
      ]
    },
    {
      "cell_type": "code",
      "metadata": {
        "id": "zztAGCN-3516"
      },
      "source": [
        ""
      ],
      "execution_count": null,
      "outputs": []
    },
    {
      "cell_type": "markdown",
      "metadata": {
        "id": "-K1rvTIzwBF1"
      },
      "source": [
        "### 18. Write a Python script to merge two Python dictionaries"
      ]
    },
    {
      "cell_type": "code",
      "metadata": {
        "id": "xxP32R_DwBF1",
        "colab": {
          "base_uri": "https://localhost:8080/"
        },
        "outputId": "0e42c383-d0ab-469a-b672-5b258003df74"
      },
      "source": [
        "def Merge(dic1, dic2):\n",
        "    return(dict2.update(dict1))\n",
        "     \n",
        "dict1 = {'arun': 20, 'emil':28}\n",
        "dict2 = {'abin':30 , 'albin': 32}\n",
        " \n",
        "\n",
        "print(Merge(dict1, dict2))\n",
        " \n",
        "print(dict2)"
      ],
      "execution_count": 77,
      "outputs": [
        {
          "output_type": "stream",
          "name": "stdout",
          "text": [
            "None\n",
            "{'abin': 30, 'albin': 32, 'arun': 20, 'emil': 28}\n"
          ]
        }
      ]
    },
    {
      "cell_type": "code",
      "metadata": {
        "id": "VHXq9P0PwBF1"
      },
      "source": [
        ""
      ],
      "execution_count": null,
      "outputs": []
    }
  ]
}